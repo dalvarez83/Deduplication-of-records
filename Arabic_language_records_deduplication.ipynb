{
 "cells": [
  {
   "cell_type": "markdown",
   "metadata": {},
   "source": [
    "# Arabic language records deduplication"
   ]
  },
  {
   "cell_type": "markdown",
   "metadata": {},
   "source": [
    "#### Objectives\n",
    "- Read in data\n",
    "- Extract characters from names\n",
    "- Apply phonetics encoding on Latin and Arabic names\n",
    "- Construct identifiers\n",
    "- Evaluate performance"
   ]
  },
  {
   "cell_type": "code",
   "execution_count": 1,
   "metadata": {},
   "outputs": [
    {
     "name": "stdout",
     "output_type": "stream",
     "text": [
      "Numpy version\n",
      "1.19.4\n",
      "Pandas version\n",
      "1.2.1\n",
      "Plotly version\n",
      "3.9.0\n"
     ]
    }
   ],
   "source": [
    "# standard libraries\n",
    "import re # package to perform regular expressions\n",
    "import sys\n",
    "import os\n",
    "import io\n",
    "import boto3\n",
    "import s3fs\n",
    "import numpy as np\n",
    "print(\"Numpy version\")\n",
    "print(np.__version__)\n",
    "import pandas as pd\n",
    "print(\"Pandas version\")\n",
    "print(pd.__version__)\n",
    "# letters of the alphabet libraries\n",
    "import string\n",
    "from string import ascii_lowercase, ascii_uppercase \n",
    "from random import choice\n",
    "from functools import reduce\n",
    "\n",
    "import xml.etree.ElementTree as et #xml\n",
    "\n",
    "import datetime as dt\n",
    "import time\n",
    "import psycopg2 # access to postgres DB\n",
    "from hdbcli import dbapi # SAP HANA database API\n",
    "import sql \n",
    "\n",
    "# import google translate library\n",
    "import googletrans\n",
    "from googletrans import Translator\n",
    "\n",
    "# import unicodedata\n",
    "import unicodedata\n",
    "\n",
    "#phonetics\n",
    "import phonetics\n",
    "\n",
    "#import hash library\n",
    "import hashlib\n",
    "\n",
    "# vizualization libraries\n",
    "%matplotlib inline\n",
    "import matplotlib.pyplot as plt\n",
    "import seaborn as sns\n",
    "import plotly\n",
    "print(\"Plotly version\")\n",
    "print(plotly.__version__)\n",
    "# date formatter\n",
    "import matplotlib.dates as mdates\n",
    "from matplotlib.dates import DateFormatter\n",
    "\n",
    "\n",
    "# modeling libraries\n",
    "import sklearn\n",
    "from sklearn import preprocessing\n",
    "import statsmodels.api as sm\n",
    "\n",
    "# Import joblib for data persistance\n",
    "import joblib"
   ]
  },
  {
   "cell_type": "markdown",
   "metadata": {},
   "source": [
    "### Read in data"
   ]
  },
  {
   "cell_type": "code",
   "execution_count": 3,
   "metadata": {},
   "outputs": [],
   "source": [
    "#Configuration parameters\n",
    "address = 'localhost'\n",
    "database = 'Enter database'\n",
    "port = 27000\n",
    "user = 'Enter user name' #Enter user name\n",
    "password= \"Enter password\" #Enter password"
   ]
  },
  {
   "cell_type": "code",
   "execution_count": 4,
   "metadata": {},
   "outputs": [],
   "source": [
    "# connect to postgreSQL database\n",
    "conn = psycopg2.connect(\n",
    "    host= address,\n",
    "    database= database,\n",
    "    port = port,\n",
    "    user= user,\n",
    "    password= password)"
   ]
  },
  {
   "cell_type": "code",
   "execution_count": 5,
   "metadata": {},
   "outputs": [],
   "source": [
    "query = 'SELECT * FROM schema.table'"
   ]
  },
  {
   "cell_type": "code",
   "execution_count": 6,
   "metadata": {},
   "outputs": [],
   "source": [
    "# fetch records and time it\n",
    "start = time.time()\n",
    "cursor = conn.cursor()\n",
    "cursor.execute((query))\n",
    "data = cursor.fetchall()\n",
    "description = cursor.description # return tuples\n",
    "col_names = [t[0] for t in description] #extract column names\n",
    "print(\"Wall time: {} seconds\".format(time.time()-start))"
   ]
  },
  {
   "cell_type": "code",
   "execution_count": 7,
   "metadata": {},
   "outputs": [],
   "source": [
    "print(\"Total rows in the table are:\", len(data))"
   ]
  },
  {
   "cell_type": "code",
   "execution_count": 11,
   "metadata": {},
   "outputs": [],
   "source": [
    "# create dataframe\n",
    "d = pd.DataFrame(data, columns = col_names)"
   ]
  },
  {
   "cell_type": "markdown",
   "metadata": {},
   "source": [
    "#### Inspect data"
   ]
  },
  {
   "cell_type": "code",
   "execution_count": 8,
   "metadata": {},
   "outputs": [],
   "source": [
    "d.shape"
   ]
  },
  {
   "cell_type": "code",
   "execution_count": 12,
   "metadata": {},
   "outputs": [],
   "source": [
    "d.info()"
   ]
  },
  {
   "cell_type": "code",
   "execution_count": 13,
   "metadata": {},
   "outputs": [],
   "source": [
    "d.tail()"
   ]
  },
  {
   "cell_type": "code",
   "execution_count": 14,
   "metadata": {},
   "outputs": [],
   "source": [
    "d.head(3)"
   ]
  },
  {
   "cell_type": "code",
   "execution_count": 15,
   "metadata": {},
   "outputs": [],
   "source": [
    "d.iloc[0]"
   ]
  },
  {
   "cell_type": "markdown",
   "metadata": {},
   "source": [
    "### Data cleaning"
   ]
  },
  {
   "cell_type": "code",
   "execution_count": 16,
   "metadata": {},
   "outputs": [],
   "source": [
    "d = d.copy()"
   ]
  },
  {
   "cell_type": "code",
   "execution_count": 17,
   "metadata": {},
   "outputs": [],
   "source": [
    "# drop data as prefix from column names\n",
    "def drop_prefix(self, prefix):\n",
    "    self.columns = self.columns.str.lstrip(prefix)\n",
    "    return self\n",
    "\n",
    "pd.core.frame.DataFrame.drop_prefix = drop_prefix"
   ]
  },
  {
   "cell_type": "code",
   "execution_count": 18,
   "metadata": {},
   "outputs": [],
   "source": [
    "d = d.drop_prefix('data_')"
   ]
  },
  {
   "cell_type": "code",
   "execution_count": 19,
   "metadata": {},
   "outputs": [],
   "source": [
    "d.columns"
   ]
  },
  {
   "cell_type": "code",
   "execution_count": 20,
   "metadata": {},
   "outputs": [],
   "source": [
    "latin_names = ['first_name', 'father_name', 'family_name', 'mother_name', 'mother_family_name']\n",
    "\n",
    "arabic_names = ['firstnamear', 'middlenamear', 'lastnamear', 'mothernamear', 'motherfamilynamear']\n",
    "\n",
    "def clean_latin(df, column):\n",
    "    df[column] = df[column].str.replace('[^A-Za-z]+', '') # remove non-Latin letters\n",
    "    return df\n",
    "\n",
    "def clean_arabic(df, column):\n",
    "    df[column] = df[column].str.replace(r'[\\s]+','') # remove spaces\n",
    "    df[column] = df[column].str.replace(r'[\\d]+','') # remove numerical digits\n",
    "    df[column] = df[column].str.replace('ة','ه')\n",
    "    df[column] = df[column].str.replace('أ  ئ ؤ ء ى','ا')\n",
    "    df[column] = df[column].str.replace('[^\\u0621-\\u064A]', '') # accept only Arabic characters, Spaces and Numbers\n",
    "    return df"
   ]
  },
  {
   "cell_type": "code",
   "execution_count": 21,
   "metadata": {},
   "outputs": [],
   "source": [
    "for name in latin_names:\n",
    "    clean_latin(df=d, column=name)\n",
    "\n",
    "for name in arabic_names:\n",
    "    clean_arabic(df=d, column=name)"
   ]
  },
  {
   "cell_type": "markdown",
   "metadata": {},
   "source": [
    "Lower case all names"
   ]
  },
  {
   "cell_type": "code",
   "execution_count": 22,
   "metadata": {},
   "outputs": [],
   "source": [
    "for name in latin_names:\n",
    "    d[name] = d[name].str.lower()\n",
    "\n",
    "for name in arabic_names:\n",
    "    d[name] = d[name].str.lower()    "
   ]
  },
  {
   "cell_type": "code",
   "execution_count": 23,
   "metadata": {},
   "outputs": [],
   "source": [
    "for name in latin_names:\n",
    "    print(name)\n",
    "    print(d[name].value_counts(dropna=False))\n",
    "\n",
    "for name in arabic_names:\n",
    "    print(name)\n",
    "    print(d[name].value_counts(dropna=False))    "
   ]
  },
  {
   "cell_type": "code",
   "execution_count": 24,
   "metadata": {},
   "outputs": [],
   "source": [
    "print(latin_names)\n",
    "print(arabic_names)\n",
    "names = [latin_names + arabic_names]\n",
    "print(names)"
   ]
  },
  {
   "cell_type": "code",
   "execution_count": 25,
   "metadata": {},
   "outputs": [],
   "source": [
    "# drop rows where all names are null/missing\n",
    "len(d[(d['first_name'].isnull()) & (d['father_name'].isnull()) & (d['family_name'].isnull()) & (d['mother_name'].isnull()) & (d['mother_family_name'].isnull())\n",
    "     & (d['firstnamear'].isnull()) & (d['middlenamear'].isnull()) & (d['lastnamear'].isnull()) & (d['mothernamear'].isnull()) & (d['motherfamilynamear'].isnull())])"
   ]
  },
  {
   "cell_type": "code",
   "execution_count": 26,
   "metadata": {},
   "outputs": [],
   "source": [
    "# save dataframe with null names\n",
    "nullnamesdf = d[(d['first_name'].isnull()) & (d['father_name'].isnull()) & (d['family_name'].isnull()) & (d['mother_name'].isnull()) & (d['mother_family_name'].isnull())\n",
    "     & (d['firstnamear'].isnull()) & (d['middlenamear'].isnull()) & (d['lastnamear'].isnull()) & (d['mothernamear'].isnull()) & (d['motherfamilynamear'].isnull())]"
   ]
  },
  {
   "cell_type": "code",
   "execution_count": 27,
   "metadata": {},
   "outputs": [],
   "source": [
    "# keep dataset with no missing names\n",
    "d = d[(d['first_name'].notnull()) & (d['father_name'].notnull()) & (d['family_name'].notnull()) & (d['mother_name'].notnull()) & (d['mother_family_name'].notnull())\n",
    "     & (d['firstnamear'].notnull()) & (d['middlenamear'].notnull()) & (d['lastnamear'].notnull()) & (d['mothernamear'].notnull()) & (d['motherfamilynamear'].notnull())]"
   ]
  },
  {
   "cell_type": "code",
   "execution_count": 28,
   "metadata": {},
   "outputs": [],
   "source": [
    "d = d.reset_index(drop=True)"
   ]
  },
  {
   "cell_type": "code",
   "execution_count": 29,
   "metadata": {},
   "outputs": [],
   "source": [
    "# Generate columns for each of the first 3 letters of the each of the names\n",
    "\n",
    "# generate lists for each letter variable\n",
    "letter1 = d[names[0]].columns.astype(str) + '_letter1'\n",
    "letter2 = d[names[0]].columns.astype(str) + '_letter2'\n",
    "letter3 = d[names[0]].columns.astype(str) + '_letter3'\n",
    "\n",
    "letter1 = letter1.tolist()\n",
    "letter2 = letter2.tolist()\n",
    "letter3 = letter3.tolist()"
   ]
  },
  {
   "cell_type": "code",
   "execution_count": 30,
   "metadata": {},
   "outputs": [],
   "source": [
    "# create variable for first letter\n",
    "for letter,name in zip(letter1, names[0]):\n",
    "    d[letter] = d[name].str[0]\n",
    "\n",
    "# create variable for second letter\n",
    "for letter,name in zip(letter2, names[0]):\n",
    "    d[letter] = d[name].str[1]\n",
    "\n",
    "# create variable for third letter\n",
    "for letter,name in zip(letter3, names[0]):\n",
    "    d[letter] = d[name].str[2]"
   ]
  },
  {
   "cell_type": "markdown",
   "metadata": {},
   "source": [
    "### Translate Arabic to Latin characters"
   ]
  },
  {
   "cell_type": "code",
   "execution_count": 31,
   "metadata": {},
   "outputs": [],
   "source": [
    "# translate first three arabic letters of first name and concatenate\n",
    "unicodedata.name(d['firstnamear'].loc[0][0]).split()[-1]+unicodedata.name(d['firstnamear'].loc[0][1]).split()[-1]+unicodedata.name(d['firstnamear'].loc[0][2]).split()[-1]"
   ]
  },
  {
   "cell_type": "code",
   "execution_count": 32,
   "metadata": {},
   "outputs": [],
   "source": [
    "for name in latin_names:\n",
    "    print(d[d[name]==''])"
   ]
  },
  {
   "cell_type": "code",
   "execution_count": 33,
   "metadata": {},
   "outputs": [],
   "source": [
    "for name in arabic_names:\n",
    "    print(d[d[name]==''])"
   ]
  },
  {
   "cell_type": "code",
   "execution_count": 34,
   "metadata": {},
   "outputs": [],
   "source": [
    "# #replace blank values with xxx's\n",
    "# d['first_name'].loc[7209] = d['first_name'].loc[7209].replace('','xxx')\n",
    "\n",
    "# d['family_name'].loc[5811] = d['family_name'].loc[5811].replace('','xxx')\n",
    "\n",
    "# d['firstnamear'].loc[1174] = d['firstnamear'].loc[1174].replace('', 'xxx')\n",
    "# d['middlenamear'].loc[1174] = d['middlenamear'].loc[1174].replace('', 'xxx')\n",
    "# d['mothernamear'].loc[1174] = d['mothernamear'].loc[1174].replace('', 'xxx')\n",
    "# d['lastnamear'].loc[1174] = d['lastnamear'].loc[1174].replace('', 'xxx')\n",
    "# d['motherfamilynamear'].loc[1174] = d['motherfamilynamear'].loc[1174].replace('', 'xxx')\n",
    "\n",
    "# d['firstnamear'].loc[6487] = d['firstnamear'].loc[6487].replace('', 'xxx')\n",
    "# d['middlenamear'].loc[6487] = d['middlenamear'].loc[6487].replace('', 'xxx')\n",
    "# d['mothernamear'].loc[6487] = d['mothernamear'].loc[6487].replace('', 'xxx')\n",
    "# d['lastnamear'].loc[6487] = d['lastnamear'].loc[6487].replace('', 'xxx')\n",
    "# d['motherfamilynamear'].loc[6487] = d['motherfamilynamear'].loc[6487].replace('', 'xxx')\n",
    "\n",
    "# d['firstnamear'].loc[8016] = d['firstnamear'].loc[8016].replace('', 'xxx')\n",
    "# d['middlenamear'].loc[8016] = d['middlenamear'].loc[8016].replace('', 'xxx')\n",
    "# d['mothernamear'].loc[8016] = d['mothernamear'].loc[8016].replace('', 'xxx')\n",
    "# d['lastnamear'].loc[8016] = d['lastnamear'].loc[8016].replace('', 'xxx')\n",
    "# d['motherfamilynamear'].loc[8016] = d['motherfamilynamear'].loc[8016].replace('', 'xxx')"
   ]
  },
  {
   "cell_type": "code",
   "execution_count": 35,
   "metadata": {},
   "outputs": [],
   "source": [
    "# d.family_name.loc[5811]"
   ]
  },
  {
   "cell_type": "markdown",
   "metadata": {},
   "source": [
    "### Phonetics"
   ]
  },
  {
   "cell_type": "code",
   "execution_count": 36,
   "metadata": {},
   "outputs": [],
   "source": [
    "# generate lists for each phonetics encoding type\n",
    "soundex = d[latin_names].columns.astype(str) + '_soundex'\n",
    "metaphone = d[latin_names].columns.astype(str) + '_metaphone'\n",
    "dmetaphone = d[latin_names].columns.astype(str) + '_dmetaphone'\n",
    "\n",
    "soundex = soundex.tolist()\n",
    "metaphone = metaphone.tolist()\n",
    "dmetaphone = dmetaphone.tolist()"
   ]
  },
  {
   "cell_type": "code",
   "execution_count": 37,
   "metadata": {},
   "outputs": [],
   "source": [
    "# create soundex features\n",
    "for phone,name in zip(soundex, latin_names):\n",
    "    d[phone] = d[name].apply(lambda x: phonetics.soundex(x))      \n",
    "        \n",
    "# create metaphone features\n",
    "for phone,name in zip(metaphone, latin_names):\n",
    "    d[phone] = d[name].apply(lambda x: phonetics.metaphone(x)) \n",
    "\n",
    "# create double metaphone features\n",
    "for phone,name in zip(dmetaphone, latin_names):\n",
    "    d[phone] = d[name].apply(lambda x: phonetics.dmetaphone(x)) "
   ]
  },
  {
   "cell_type": "markdown",
   "metadata": {},
   "source": [
    "#### Phonetics implementation from Arabic names to phonetic codes (using `arphp` library)"
   ]
  },
  {
   "cell_type": "code",
   "execution_count": 38,
   "metadata": {},
   "outputs": [],
   "source": [
    "xml_file = 'ArSoundex.xml'"
   ]
  },
  {
   "cell_type": "code",
   "execution_count": 39,
   "metadata": {},
   "outputs": [],
   "source": [
    "class Item:\n",
    "    Id = 0\n",
    "    Text = ''\n",
    "    def __init__(self, id, text):\n",
    "        self.Id = id\n",
    "        self.Text = text"
   ]
  },
  {
   "cell_type": "code",
   "execution_count": 40,
   "metadata": {},
   "outputs": [],
   "source": [
    "class ArabicSoundex:\n",
    "    _asoundexCodes = []\n",
    "    _aphonixCode = []\n",
    "    _transliteration = []\n",
    "    _map = []\n",
    "    _len = 4\n",
    "    _code ='soundex'\n",
    "    _lang = \"en\"\n",
    "    \n",
    "    # constructor\n",
    "    def __init__(self):\n",
    "        xtree = et.parse(xml_file)\n",
    "        xroot = xtree.getroot()\n",
    "        for node in xroot.iter('asoundexCode'):\n",
    "            for x in node:\n",
    "                myobj = Item(x.attrib['id'], x.text)\n",
    "                self._asoundexCodes.append(myobj)\n",
    "        for node in xroot.iter('aphonixCode'):\n",
    "            for x in node:\n",
    "                myobj = Item(x.attrib['id'], x.text)\n",
    "                self._aphonixCode.append(myobj)\n",
    "        for node in xroot.iter('transliteration'):\n",
    "            for x in node:\n",
    "                myobj = Item(x.attrib['id'], x.text)\n",
    "                self._transliteration.append(myobj)\n",
    "        self._map = self._asoundexCodes\n",
    "    #Set the length of soundex key (default value is 4)\n",
    "    #@param intValue $integer Soundex key length\n",
    "    \n",
    "    def setLen (self, intValue):\n",
    "        self._len = intValue\n",
    "    \n",
    "    #Set the language of the soundex key (default value is \"en\")\n",
    "    #@param string strValue Soundex key language [ar|en]\n",
    " \n",
    "    def setLang (self,strValue):\n",
    "        self._lang = strValue\n",
    "    \n",
    "    #Set the mapping code of the soundex key (default value is \"soundex\")\n",
    "    #@param string strValue Soundex key mapping code [soundex|phonix]\n",
    "    \n",
    "    def setCode (self, strValue):\n",
    "        xx = strValue.lower()\n",
    "        if (xx == 'soundex' or xx == 'phonix'):\n",
    "            self._code = xx\n",
    "            if (xx == 'phonix'):\n",
    "                self._map = self._aphonixCode\n",
    "            else:\n",
    "                self._map = self._asoundexCodes\n",
    "    def getLen(self):\n",
    "        return self._len\n",
    "    def getLang(self):\n",
    "        return self._lang\n",
    "    def getCode(self):\n",
    "        return self._code\n",
    "    \n",
    "    def mapCode(self, word):\n",
    "        encodedWord = ''\n",
    "        for elem in word:\n",
    "            matchingVals = [x for x in self._map if x.Text == elem]\n",
    "            if (not matchingVals):\n",
    "                encodedWord = encodedWord + \"0\"\n",
    "            else:\n",
    "                encodedWord = encodedWord + matchingVals[0].Id\n",
    "        return encodedWord\n",
    "    \n",
    "    def trimRep(self, word):\n",
    "        lastChar = ''\n",
    "        cleanWord = ''\n",
    "        max = len(word)\n",
    "        for elem in word:\n",
    "            if (elem != lastChar):\n",
    "                cleanWord += elem\n",
    "            else:\n",
    "                lastChar = elem\n",
    "        return cleanWord\n",
    "    \n",
    "    def soundex(self,word):\n",
    "        soundex = word[0]\n",
    "        if (self._lang  == 'en'):\n",
    "            matchingVals = [x for x in self._transliteration if x.Id == soundex]\n",
    "            if (not matchingVals):\n",
    "                soundex = ''\n",
    "            else:\n",
    "                soundex = matchingVals[0].Text\n",
    "        rest = word[1:len(word)]\n",
    "        encodedRest = self.mapCode(word)\n",
    "        cleanEncodedRest = self.trimRep(encodedRest)\n",
    "        soundex += cleanEncodedRest\n",
    "        soundex = soundex.replace(\"0\", \"\")\n",
    "        totalLen = len(soundex)\n",
    "        if (totalLen > self._len):\n",
    "            soundex = soundex[0:self._len]\n",
    "        else:\n",
    "            soundex += '0' * (self._len - totalLen)\n",
    "        return soundex\n",
    "    \n",
    "    def arabicFixConfusingLettersKey(self, word):\n",
    "        result = ''\n",
    "        result = word.replace(\" \", \"\")\n",
    "        result = result.replace(\"أ\", \"ا\")\n",
    "        result = result.replace(\"آ\", \"ا\")\n",
    "        result = result.replace(\"ى\", \"ا\")\n",
    "        result = result.replace(\"ؤ\", \"ا\")\n",
    "        result = result.replace(\"إ\", \"ا\")\n",
    "        result = result.replace(\"ئ\", \"ا\")\n",
    "        result = result.replace(\"ة\", \"ه\")\n",
    "        result = result.replace(\"ص\", \"س\")\n",
    "        result = result.replace(\"ض\", \"د\")\n",
    "        result = result.replace(\"ث\", \"ت\")\n",
    "        result = result.replace(\"ذ\", \"ز\")\n",
    "        result = result.replace(\"ق\", \"ك\")\n",
    "        result = result.replace(\"ح\", \"ه\")\n",
    "        result = re.sub('[^A-Za-zا-ي]+', '', result)\n",
    "        return result\n"
   ]
  },
  {
   "cell_type": "code",
   "execution_count": 41,
   "metadata": {},
   "outputs": [],
   "source": [
    "ar_soundex = ArabicSoundex()\n",
    "ar_soundex.setLen(5)"
   ]
  },
  {
   "cell_type": "code",
   "execution_count": 42,
   "metadata": {},
   "outputs": [],
   "source": [
    "# Apply Soundex phonetics on Arabic names\n",
    "ar_soundex = ArabicSoundex()\n",
    "ar_soundex.setLen(5)\n",
    "\n",
    "# generate lists for each arabic phonetics encoding type\n",
    "arabicsoundex = d[arabic_names].columns.astype(str) + '_soundex'\n",
    "arabicsoundex = arabicsoundex.tolist()"
   ]
  },
  {
   "cell_type": "code",
   "execution_count": 43,
   "metadata": {},
   "outputs": [],
   "source": [
    "# create soundex features\n",
    "for phone,name in zip(arabicsoundex, arabic_names):\n",
    "    d[phone] = d[name].apply(lambda x: ar_soundex.soundex(x))      "
   ]
  },
  {
   "cell_type": "code",
   "execution_count": 44,
   "metadata": {},
   "outputs": [],
   "source": [
    "# check results\n",
    "for name in arabicsoundex:\n",
    "    print(d[name].value_counts(dropna=False).head())"
   ]
  },
  {
   "cell_type": "code",
   "execution_count": 45,
   "metadata": {},
   "outputs": [],
   "source": [
    "# create soundex code variables with just 4 digits (dropping first letter)\n",
    "ar_soundex_digits = d[arabicsoundex].columns.astype(str) + '_digits'\n",
    "ar_soundex_digits = ar_soundex_digits.tolist()\n",
    "\n",
    "for digits,name in zip(ar_soundex_digits, arabicsoundex):\n",
    "    d[digits] = d[name].str[1:]"
   ]
  },
  {
   "cell_type": "code",
   "execution_count": 46,
   "metadata": {},
   "outputs": [],
   "source": [
    "# check results\n",
    "for name in ar_soundex_digits:\n",
    "    print(d[name].value_counts(dropna=False).head())"
   ]
  },
  {
   "cell_type": "code",
   "execution_count": 47,
   "metadata": {},
   "outputs": [],
   "source": [
    "# create dictionary of engineered features\n",
    "feature_dict = {'names':names[0], 'latin_names': latin_names, 'arabic_names': arabic_names,\n",
    "                'letter1': letter1, 'letter2': letter2, 'letter3': letter3, \n",
    "                'soundex': soundex, 'metaphone': metaphone, 'dmetaphone': dmetaphone, \n",
    "                'arabicsoundex': arabicsoundex, 'ar_soundex_digits': ar_soundex_digits}"
   ]
  },
  {
   "cell_type": "markdown",
   "metadata": {},
   "source": [
    "### Construct USCADI identifiers for deduplication based on HH's proposal"
   ]
  },
  {
   "cell_type": "markdown",
   "metadata": {},
   "source": [
    "* USCADI 1 - Concatenate `first_name`,`family_name`, `father_name`, `mother_name`, `birthdate` (full)\n",
    "* USCADI 2 - Concatenate `first_name`,`family_name`, `father_name`, `birthdate` (full)\n",
    "* USCADI 3 - Concatenate `first_name`,`family_name`, `mother_name`, `birthdate` (full)\n",
    "* USCADI 4 - Concatenate `first_name`,`family_name`, `birthdate` (full)\n",
    "* USCADI 5 - Concatenate `first_name`,`family_name`, `father_name`, `mother_name`, `birthyear`\n",
    "* USCADI 6 - Concatenate `first_name`,`family_name`, `father_name`, `birthyear`\n",
    "* USCADI 7 - Concatenate `first_name`,`family_name`, `mother_name`, `birthyear`\n",
    "* USCADI 8 - Concatenate `first_name`,`family_name`, `birthyear`\n",
    "\n",
    "Implement these 8 USCADIs using Soundex (Arabic) and Metaphone-Latin"
   ]
  },
  {
   "cell_type": "code",
   "execution_count": 48,
   "metadata": {},
   "outputs": [],
   "source": [
    "# soundex-based USCADI identifiers on Arabic character names\n",
    "d['uscadi1_ar_soundex'] = d['firstnamear_soundex']+ d['lastnamear_soundex'] + d['middlenamear_soundex'] + d['mothernamear_soundex'] + d['birthdate']\n",
    "d['uscadi2_ar_soundex'] = d['firstnamear_soundex']+ d['lastnamear_soundex'] + d['middlenamear_soundex'] + d['birthdate']\n",
    "d['uscadi3_ar_soundex'] = d['firstnamear_soundex']+ d['lastnamear_soundex'] + d['mothernamear_soundex'] + d['birthdate']\n",
    "d['uscadi4_ar_soundex'] = d['firstnamear_soundex']+ d['lastnamear_soundex'] + d['birthdate']\n",
    "d['uscadi5_ar_soundex'] = d['firstnamear_soundex']+ d['lastnamear_soundex'] + d['middlenamear_soundex'] + d['mothernamear_soundex'] + d['birthyear']\n",
    "d['uscadi6_ar_soundex'] = d['firstnamear_soundex']+ d['lastnamear_soundex'] + d['middlenamear_soundex'] + d['birthyear']\n",
    "d['uscadi7_ar_soundex'] = d['firstnamear_soundex']+ d['lastnamear_soundex'] + d['mothernamear_soundex'] + d['birthyear']\n",
    "d['uscadi8_ar_soundex'] = d['firstnamear_soundex']+ d['lastnamear_soundex'] + d['birthyear']\n",
    "\n",
    "# Lawrence Philip's metaphone-based USCADI identifiers\n",
    "d['uscadi1_metaphone'] = d['first_name_metaphone']+ d['family_name_metaphone'] + d['father_name_metaphone'] + d['mother_name_metaphone'] + d['birthdate']\n",
    "d['uscadi2_metaphone'] = d['first_name_metaphone']+ d['family_name_metaphone'] + d['father_name_metaphone'] + d['birthdate']\n",
    "d['uscadi3_metaphone'] = d['first_name_metaphone']+ d['family_name_metaphone'] + d['mother_name_metaphone'] + d['birthdate']\n",
    "d['uscadi4_metaphone'] = d['first_name_metaphone']+ d['family_name_metaphone'] + d['birthdate']\n",
    "d['uscadi5_metaphone'] = d['first_name_metaphone']+ d['family_name_metaphone'] + d['father_name_metaphone'] + d['mother_name_metaphone'] + d['birthyear']\n",
    "d['uscadi6_metaphone'] = d['first_name_metaphone']+ d['family_name_metaphone'] + d['father_name_metaphone'] + d['birthyear']\n",
    "d['uscadi7_metaphone'] = d['first_name_metaphone']+ d['family_name_metaphone'] + d['mother_name_metaphone'] + d['birthyear']\n",
    "d['uscadi8_metaphone'] = d['first_name_metaphone']+ d['family_name_metaphone'] + d['birthyear']\n"
   ]
  },
  {
   "cell_type": "markdown",
   "metadata": {},
   "source": [
    "#### Examine the duplicates"
   ]
  },
  {
   "cell_type": "code",
   "execution_count": 49,
   "metadata": {},
   "outputs": [],
   "source": [
    "def duplicationanalyzer(data):\n",
    "    ''' Assess the number and percentage of duplicates for each variable in the dataset'''\n",
    "    variable = pd.Series(np.nan)\n",
    "\n",
    "    for var in data:\n",
    "        ''' Output the number of duplicates and percentage of duplicates'''\n",
    "        variable = data[var]\n",
    "\n",
    "        # construct variable dataframe less duplicates\n",
    "        variable_dedup = variable.drop_duplicates(keep='first')\n",
    "\n",
    "        # print the number of duplicates\n",
    "        # duplicates=len(variable) - len(variable_dedup)\n",
    "        duplicates=data[data[var].duplicated(keep=False)]\n",
    "        print(var)\n",
    "        print('Number of duplicates: ',len(duplicates))\n",
    "\n",
    "        # print the percentage of duplicates\n",
    "        percentage = len(duplicates)/len(data)\n",
    "        print('Percentage of duplicates: ',percentage)"
   ]
  },
  {
   "cell_type": "code",
   "execution_count": 50,
   "metadata": {},
   "outputs": [],
   "source": [
    "duplicationanalyzer(data=d)"
   ]
  },
  {
   "cell_type": "code",
   "execution_count": 51,
   "metadata": {},
   "outputs": [],
   "source": [
    "# generate resulting duplicates sets\n",
    "d_duplicates1_ar_soundex = d[d['uscadi1_ar_soundex'].duplicated(keep=False)].sort_values(by=['uscadi1_ar_soundex'])\n",
    "d_duplicates2_ar_soundex = d[d['uscadi2_ar_soundex'].duplicated(keep=False)].sort_values(by=['uscadi2_ar_soundex'])\n",
    "d_duplicates3_ar_soundex = d[d['uscadi3_ar_soundex'].duplicated(keep=False)].sort_values(by=['uscadi3_ar_soundex'])\n",
    "d_duplicates4_ar_soundex = d[d['uscadi4_ar_soundex'].duplicated(keep=False)].sort_values(by=['uscadi4_ar_soundex'])\n",
    "d_duplicates5_ar_soundex = d[d['uscadi5_ar_soundex'].duplicated(keep=False)].sort_values(by=['uscadi5_ar_soundex'])\n",
    "d_duplicates6_ar_soundex = d[d['uscadi6_ar_soundex'].duplicated(keep=False)].sort_values(by=['uscadi6_ar_soundex'])\n",
    "d_duplicates7_ar_soundex = d[d['uscadi7_ar_soundex'].duplicated(keep=False)].sort_values(by=['uscadi7_ar_soundex'])\n",
    "d_duplicates8_ar_soundex = d[d['uscadi8_ar_soundex'].duplicated(keep=False)].sort_values(by=['uscadi8_ar_soundex'])\n",
    "\n",
    "d_duplicates1_metaphone = d[d['uscadi1_metaphone'].duplicated(keep=False)].sort_values(by=['uscadi1_metaphone'])\n",
    "d_duplicates2_metaphone = d[d['uscadi2_metaphone'].duplicated(keep=False)].sort_values(by=['uscadi2_metaphone'])\n",
    "d_duplicates3_metaphone = d[d['uscadi3_metaphone'].duplicated(keep=False)].sort_values(by=['uscadi3_metaphone'])\n",
    "d_duplicates4_metaphone = d[d['uscadi4_metaphone'].duplicated(keep=False)].sort_values(by=['uscadi4_metaphone'])\n",
    "d_duplicates5_metaphone = d[d['uscadi5_metaphone'].duplicated(keep=False)].sort_values(by=['uscadi5_metaphone'])\n",
    "d_duplicates6_metaphone = d[d['uscadi6_metaphone'].duplicated(keep=False)].sort_values(by=['uscadi6_metaphone'])\n",
    "d_duplicates7_metaphone = d[d['uscadi7_metaphone'].duplicated(keep=False)].sort_values(by=['uscadi7_metaphone'])\n",
    "d_duplicates8_metaphone = d[d['uscadi8_metaphone'].duplicated(keep=False)].sort_values(by=['uscadi8_metaphone'])\n",
    "\n"
   ]
  },
  {
   "cell_type": "markdown",
   "metadata": {},
   "source": [
    "#### Analysis of duplicates"
   ]
  },
  {
   "cell_type": "code",
   "execution_count": 52,
   "metadata": {},
   "outputs": [],
   "source": [
    "dup_list = [d_duplicates1_ar_soundex, d_duplicates2_ar_soundex, d_duplicates3_ar_soundex, d_duplicates4_ar_soundex,\n",
    "            d_duplicates5_ar_soundex, d_duplicates6_ar_soundex, d_duplicates7_ar_soundex, d_duplicates8_ar_soundex,\n",
    "            d_duplicates1_metaphone, d_duplicates2_metaphone, d_duplicates3_metaphone, d_duplicates4_metaphone,\n",
    "            d_duplicates5_metaphone, d_duplicates6_metaphone, d_duplicates7_metaphone, d_duplicates8_metaphone]\n",
    "\n",
    "\n",
    "dup_list_latin = [d_duplicates1_metaphone, d_duplicates2_metaphone, d_duplicates3_metaphone, d_duplicates4_metaphone,\n",
    "                  d_duplicates5_metaphone, d_duplicates6_metaphone, d_duplicates7_metaphone, d_duplicates8_metaphone]\n",
    "\n",
    "dup_list_ar = [d_duplicates1_ar_soundex, d_duplicates2_ar_soundex, d_duplicates3_ar_soundex, d_duplicates4_ar_soundex,\n",
    "               d_duplicates5_ar_soundex, d_duplicates6_ar_soundex, d_duplicates7_ar_soundex, d_duplicates8_ar_soundex]\n"
   ]
  },
  {
   "cell_type": "code",
   "execution_count": 53,
   "metadata": {},
   "outputs": [],
   "source": [
    "dup_list_len =[]\n",
    "dup_list_len_latin =[]\n",
    "dup_list_len_ar =[]\n",
    "\n",
    "\n",
    "for dup in dup_list:\n",
    "    #print(len(dup))\n",
    "    dup_list_len.append(len(dup))\n",
    "\n",
    "for dup in dup_list_latin:\n",
    "    dup_list_len_latin.append(len(dup))\n",
    "\n",
    "for dup in dup_list_ar:\n",
    "    dup_list_len_ar.append(len(dup))\n",
    "\n",
    "dup_pct =[] # initialize duplicates percentage\n",
    "dup_pct_latin =[] # initialize duplicates percentage\n",
    "dup_pct_ar =[] # initialize duplicates percentage\n",
    "\n",
    "\n",
    "for i in range(0,len(dup_list_len)):\n",
    "    dup_pct.append(dup_list_len[i]/len(d))\n",
    "\n",
    "for i in range(0,len(dup_list_len_latin)):\n",
    "    dup_pct_latin.append(dup_list_len_latin[i]/len(d))\n",
    "    \n",
    "for i in range(0,len(dup_list_len_ar)):\n",
    "    dup_pct_ar.append(dup_list_len_ar[i]/len(d))"
   ]
  },
  {
   "cell_type": "code",
   "execution_count": 54,
   "metadata": {},
   "outputs": [],
   "source": [
    "#plot duplicates\n",
    "\n",
    "x = ['1-SA','2-SA','3-SA','4-SA','5-SA','6-SA','7-SA','8-SA',\n",
    "     '1-ML','2-ML','3-ML','4-ML','5-ML','6-ML','7-ML','8-ML']\n",
    "\n",
    "fig, ax = plt.subplots(figsize=(28,10)) # Set figure size\n",
    "ax = sns.barplot(x = x, y = dup_pct,\n",
    "            palette = 'Blues', edgecolor = 'b')\n",
    "ax.set_title(\"Duplicates as a proportion of total by Identifier\", fontsize=18)\n",
    "ax.set_xlabel(\"Identifier\", fontsize=18)\n",
    "ax.set_xticklabels(x, fontsize=18) \n",
    "\n",
    "#ax.set_ylabel(\"Duplicates as a percentage of total\")\n",
    "plt.show()"
   ]
  },
  {
   "cell_type": "code",
   "execution_count": 55,
   "metadata": {},
   "outputs": [],
   "source": [
    "# list of duplicates percentage by signature\n",
    "dup_pct"
   ]
  },
  {
   "cell_type": "code",
   "execution_count": 56,
   "metadata": {},
   "outputs": [],
   "source": [
    "x_latin = ['1-ML','2-ML','3-ML','4-ML','5-ML','6-ML','7-ML','8-ML']\n",
    "\n",
    "fig, ax = plt.subplots(figsize=(15,7)) # Set figure size\n",
    "ax = sns.barplot(x = x_latin, y = dup_pct_latin,\n",
    "            palette = 'Purples', edgecolor = 'b')\n",
    "ax.set_title(\"Duplicates as a proportion of total by Identifier (Latin names)\", fontsize=18)\n",
    "ax.set_xlabel(\"Identifier\", fontsize=18)\n",
    "ax.set_xticklabels(x_latin, fontsize=18)\n",
    "#ax.set_ylabel(\"Duplicates as a percentage of total\")\n",
    "plt.show()"
   ]
  },
  {
   "cell_type": "code",
   "execution_count": 53,
   "metadata": {},
   "outputs": [
    {
     "data": {
      "image/png": "[encoded data removed]",
      "text/plain": [
       "<Figure size 1080x504 with 1 Axes>"
      ]
     },
     "metadata": {
      "needs_background": "light"
     },
     "output_type": "display_data"
    }
   ],
   "source": [
    "x_ar = ['1-SA','2-SA','3-SA','4-SA','5-SA','6-SA','7-SA','8-SA']\n",
    "\n",
    "fig, ax = plt.subplots(figsize=(15,7)) # Set figure size\n",
    "ax = sns.barplot(x = x_ar, y = dup_pct_ar,\n",
    "            palette = 'Greens', edgecolor = 'b')\n",
    "ax.set_title(\"Duplicates as a proportion of total by Identifier (Arabic names)\", fontsize=18)\n",
    "ax.set_xlabel(\"Identifier\", fontsize=18)\n",
    "ax.set_xticklabels(x_ar, fontsize=18)\n",
    "#ax.set_ylabel(\"Duplicates as a percentage of total\")\n",
    "plt.show()"
   ]
  },
  {
   "cell_type": "code",
   "execution_count": 57,
   "metadata": {},
   "outputs": [],
   "source": [
    "dup_pct_ar"
   ]
  },
  {
   "cell_type": "markdown",
   "metadata": {},
   "source": [
    "Percent of duplicates missing names or with January 1st birthdays"
   ]
  },
  {
   "cell_type": "code",
   "execution_count": 58,
   "metadata": {},
   "outputs": [],
   "source": [
    "missing_names_jan_first_count_list =[]\n",
    "missing_names_jan_first_count_list_pct =[]\n",
    "\n",
    "for dup in dup_list:\n",
    "    missing_names_jan_first_count_list.append(len(dup[(dup['first_name']=='xxx')| (dup['father_name']=='xxx') | (dup['family_name']=='xxx') | (dup['mother_name']=='xxx') | (dup['mother_family_name']=='xxx')|(dup['firstnamear']=='xxx')| (dup['middlenamear']=='xxx') | (dup['lastnamear']=='xxx') | (dup['mothernamear']=='xxx') | (dup['motherfamilynamear']=='xxx')| (dup['birthmonthday']=='0101')]))\n",
    "    missing_names_jan_first_count_list_pct.append(len(dup[(dup['first_name']=='xxx')| (dup['father_name']=='xxx') | (dup['family_name']=='xxx') | (dup['mother_name']=='xxx') | (dup['mother_family_name']=='xxx')|(dup['firstnamear']=='xxx')| (dup['middlenamear']=='xxx') | (dup['lastnamear']=='xxx') | (dup['mothernamear']=='xxx') | (dup['motherfamilynamear']=='xxx')| (dup['birthmonthday']=='0101')])/len(dup))"
   ]
  },
  {
   "cell_type": "code",
   "execution_count": 59,
   "metadata": {},
   "outputs": [],
   "source": [
    "print(missing_names_jan_first_count_list)\n",
    "print(missing_names_jan_first_count_list_pct)"
   ]
  },
  {
   "cell_type": "code",
   "execution_count": 60,
   "metadata": {},
   "outputs": [],
   "source": [
    "fig, ax = plt.subplots(figsize=(30,10)) # Set figure size\n",
    "ax = sns.barplot(x = x, y = missing_names_jan_first_count_list_pct,\n",
    "            palette = 'Purples', edgecolor = 'b')\n",
    "ax.set_title(\"Proportion of duplicates with January 1st birthdates\", fontsize=24)\n",
    "ax.set_xlabel(\"Identifier\", fontsize=18)\n",
    "ax.set_xticklabels(x, fontsize=18)\n",
    "#ax.set_ylabel(\"Duplicates as a percentage of total\")\n",
    "plt.show()"
   ]
  },
  {
   "cell_type": "markdown",
   "metadata": {},
   "source": [
    "Create evaluation dataset"
   ]
  },
  {
   "cell_type": "code",
   "execution_count": 58,
   "metadata": {},
   "outputs": [],
   "source": [
    "evaldf = pd.DataFrame(list(zip(dup_pct, missing_names_jan_first_count_list_pct)), index=x, columns =['Duplicates_pct','MissingNames_Jan1st_Pct']) "
   ]
  },
  {
   "cell_type": "code",
   "execution_count": 61,
   "metadata": {},
   "outputs": [],
   "source": [
    "# rank each column\n",
    "evaldf['duplicates_rank'] = evaldf['Duplicates_pct'].rank()\n",
    "evaldf['missingnames_jan1st_rank'] = evaldf['MissingNames_Jan1st_Pct'].rank()"
   ]
  },
  {
   "cell_type": "code",
   "execution_count": 62,
   "metadata": {},
   "outputs": [],
   "source": [
    "evaldf.sort_values(by=['duplicates_rank', 'missingnames_jan1st_rank'], ascending=[False, True])"
   ]
  },
  {
   "cell_type": "code",
   "execution_count": 63,
   "metadata": {},
   "outputs": [],
   "source": [
    "len(evaldf)"
   ]
  }
 ],
 "metadata": {
  "kernelspec": {
   "display_name": "Python 3",
   "language": "python",
   "name": "python3"
  },
  "language_info": {
   "codemirror_mode": {
    "name": "ipython",
    "version": 3
   },
   "file_extension": ".py",
   "mimetype": "text/x-python",
   "name": "python",
   "nbconvert_exporter": "python",
   "pygments_lexer": "ipython3",
   "version": "3.7.6"
  }
 },
 "nbformat": 4,
 "nbformat_minor": 4
}
